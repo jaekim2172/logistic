{
  "nbformat": 4,
  "nbformat_minor": 0,
  "metadata": {
    "kernelspec": {
      "display_name": "Python 3",
      "language": "python",
      "name": "python3"
    },
    "language_info": {
      "codemirror_mode": {
        "name": "ipython",
        "version": 3
      },
      "file_extension": ".py",
      "mimetype": "text/x-python",
      "name": "python",
      "nbconvert_exporter": "python",
      "pygments_lexer": "ipython3",
      "version": "3.7.7"
    },
    "colab": {
      "name": "logistic_regression_one_dimension_updated.ipynb의 사본의 사본",
      "provenance": [],
      "collapsed_sections": [],
      "include_colab_link": true
    }
  },
  "cells": [
    {
      "cell_type": "markdown",
      "metadata": {
        "id": "view-in-github",
        "colab_type": "text"
      },
      "source": [
        "<a href=\"https://colab.research.google.com/github/jaekim2172/logistic/blob/master/logistic_regression_one_dimension_updated_ipynb%EC%9D%98_%EC%82%AC%EB%B3%B8%EC%9D%98_%EC%82%AC%EB%B3%B8.ipynb\" target=\"_parent\"><img src=\"https://colab.research.google.com/assets/colab-badge.svg\" alt=\"Open In Colab\"/></a>"
      ]
    },
    {
      "cell_type": "code",
      "metadata": {
        "id": "5obdVnZ9jR0F",
        "colab_type": "code",
        "colab": {}
      },
      "source": [
        "import tensorflow as tf\n",
        "import numpy as np\n",
        "import matplotlib.pyplot as plt\n",
        "\n",
        "# 훈련자료 입력 (독립변수 1개)\n",
        "x_train = np.array([[2.5],[2.9],[3.2],[4],[4.7],[5],[5.6],[6.2],[7.3],[8]], dtype=np.float32)\n",
        "y_train = np.array([[0],[0],[0],[0],[1],[0],[1],[1],[1],[1]], dtype=np.float32)\n"
      ],
      "execution_count": 0,
      "outputs": []
    },
    {
      "cell_type": "code",
      "metadata": {
        "id": "j5O1L-sKjn0m",
        "colab_type": "code",
        "outputId": "b1903255-52ef-4c7a-c38d-4da789259931",
        "colab": {
          "base_uri": "https://localhost:8080/",
          "height": 283
        }
      },
      "source": [
        "plt.plot(x_train, y_train,'bo')"
      ],
      "execution_count": 0,
      "outputs": [
        {
          "output_type": "execute_result",
          "data": {
            "text/plain": [
              "[<matplotlib.lines.Line2D at 0x7f501a8f14a8>]"
            ]
          },
          "metadata": {
            "tags": []
          },
          "execution_count": 7
        },
        {
          "output_type": "display_data",
          "data": {
            "image/png": "[encoded data removed]",
            "text/plain": [
              "<Figure size 432x288 with 1 Axes>"
            ]
          },
          "metadata": {
            "tags": [],
            "needs_background": "light"
          }
        }
      ]
    },
    {
      "cell_type": "code",
      "metadata": {
        "id": "ju8EeFFujR0N",
        "colab_type": "code",
        "colab": {}
      },
      "source": [
        "# tf.data.Dataset 파이프라인을 이용하여 값을 입력\n",
        "# from_tensor_slices 클래스 매서드를 사용하면 리스트, 넘파이, 텐서플로 자료형에서 데이터셋을 만들 수 있음\n",
        "dataset = tf.data.Dataset.from_tensor_slices((x_train, y_train)).batch(len(x_train))\n",
        "W = tf.Variable(np.array( [[-5]] ), name='weight',dtype=np.float32)\n",
        "b = tf.Variable(0.5, name='bias',dtype=np.float32)\n",
        "\n"
      ],
      "execution_count": 0,
      "outputs": []
    },
    {
      "cell_type": "code",
      "metadata": {
        "id": "tvaE1H-4jR0Q",
        "colab_type": "code",
        "outputId": "0f83df9d-bfc4-446b-95dd-af670e3c9c70",
        "colab": {
          "base_uri": "https://localhost:8080/",
          "height": 35
        }
      },
      "source": [
        "# 원소의 자료구조 반환\n",
        "print(dataset.element_spec)\n",
        "\n",
        "# 로지스틱 회귀분석\n",
        "def logistic_regression(features):\n",
        "    hypothesis = tf.sigmoid(tf.matmul(features, W) + b)\n",
        "    return hypothesis\n",
        "\n",
        "# 비용함수 계산\n",
        "def loss_ftn(features, labels):\n",
        "    hypothesis = logistic_regression(features)\n",
        "    cost = -tf.reduce_mean(labels * tf.math.log(hypothesis) + (1 - labels) * tf.math.log(1 - hypothesis))\n",
        "    return cost\n",
        "\n",
        "# 경사값 계산\n",
        "def grad(hypothesis, features, labels):\n",
        "    with tf.GradientTape() as tape:\n",
        "        loss_value = loss_ftn(features, labels)\n",
        "    return tape.gradient(loss_value, [W, b]),loss_value"
      ],
      "execution_count": 0,
      "outputs": [
        {
          "output_type": "stream",
          "text": [
            "(TensorSpec(shape=(None, 1), dtype=tf.float32, name=None), TensorSpec(shape=(None, 1), dtype=tf.float32, name=None))\n"
          ],
          "name": "stdout"
        }
      ]
    },
    {
      "cell_type": "code",
      "metadata": {
        "id": "P-b1dO2Bw256",
        "colab_type": "code",
        "colab": {}
      },
      "source": [
        "W_save=np.array([],dtype=np.float32)\n",
        "b_save=np.array([],dtype=np.float32)\n",
        "loss_save=np.array([],dtype=np.float32)\n",
        "hype_save=np.zeros((10,10))"
      ],
      "execution_count": 0,
      "outputs": []
    },
    {
      "cell_type": "code",
      "metadata": {
        "id": "JyMtpd8ZjR0U",
        "colab_type": "code",
        "outputId": "6922df44-72e5-4cc5-ec8d-15b03cb7f488",
        "colab": {
          "base_uri": "https://localhost:8080/",
          "height": 359
        }
      },
      "source": [
        "optimizer = tf.keras.optimizers.SGD(learning_rate=0.01)\n",
        "i=0\n",
        "# 반복 시행 부분 (위의 세 함수가 필요)\n",
        "EPOCHS = 5000\n",
        "for step in range(EPOCHS + 1):\n",
        "    for features, labels in iter(dataset):\n",
        "        hypothesis = logistic_regression(features)\n",
        "        grads,loss = grad(hypothesis, features, labels)\n",
        "        optimizer.apply_gradients(grads_and_vars=zip(grads, [W, b]))\n",
        "        #if step % 300 == 0:\n",
        "\n",
        "        if step % 1000 == 0:\n",
        "            W_save=np.append(W_save,W.numpy())\n",
        "            b_save=np.append(b_save,b.numpy())\n",
        "            loss_save=np.append(loss_save,loss.numpy())\n",
        "            hype_save[:,i]=np.ravel(hypothesis)\n",
        "            print(\"Iter: {}, Loss: {:.4f}, W: {:.4f}, B:{:.4f}\".format(step, loss_ftn(features, labels), W.numpy()[0,0], b.numpy()))\n",
        "            print(np.ravel(hypothesis))\n",
        "            i+=1\n",
        "\n",
        "# 정확도 계산 함수; 가설값 0.5가 넘으면 모델은 Yes로 판정\n",
        "def accuracy_ftn(hypothesis, labels):\n",
        "    predicted = tf.cast(hypothesis > 0.5, dtype=tf.float32)\n",
        "    accuracy = tf.reduce_mean(tf.cast(tf.equal(predicted, labels), dtype=tf.int32))\n",
        "    return accuracy\n",
        "\n",
        "# 검증자료 입력\n",
        "x_test = [[9],[2.9]]\n",
        "y_test = [[1],[0]]\n",
        "\n",
        "# 정확도 산출\n",
        "test_acc = accuracy_ftn(logistic_regression(x_test), y_test)\n",
        "print('Accuracy: {}%'.format(test_acc * 100))"
      ],
      "execution_count": 0,
      "outputs": [
        {
          "output_type": "stream",
          "text": [
            "Iter: 0, Loss: 15.5464, W: -4.9682, B:0.5050\n",
            "[6.1442124e-06 8.3152872e-07 1.8553914e-07 3.3982679e-09 1.0261880e-10\n",
            " 2.2897351e-11 1.1399920e-12 5.6756855e-14 2.3195227e-16 7.0043520e-18]\n",
            "Iter: 1000, Loss: 0.6637, W: 0.0924, B:0.0604\n",
            "[0.57250017 0.58149844 0.5882121  0.60594916 0.621245   0.6277293\n",
            " 0.64055884 0.6531905  0.67578804 0.6897609 ]\n",
            "Iter: 2000, Loss: 0.5360, W: 0.2979, B:-1.0478\n",
            "[0.42494696 0.45427647 0.47649536 0.53596157 0.5872249  0.60869354\n",
            " 0.6503234  0.68978155 0.75521094 0.7916681 ]\n",
            "Iter: 3000, Loss: 0.4576, W: 0.4629, B:-1.9156\n",
            "[0.3190704  0.36055523 0.39313906 0.4840173  0.564626   0.5983938\n",
            " 0.66293806 0.72192943 0.81199956 0.8565549 ]\n",
            "Iter: 4000, Loss: 0.4068, W: 0.5979, B:-2.6140\n",
            "[0.24622196 0.2932303  0.33172178 0.4446843  0.5489141  0.59281695\n",
            " 0.67574805 0.7489418  0.85202235 0.8974316 ]\n",
            "Iter: 5000, Loss: 0.3720, W: 0.7111, B:-3.1923\n",
            "[0.19556248 0.24418512 0.2856562  0.4139188  0.53740484 0.5898136\n",
            " 0.687785   0.7714249  0.88063484 0.9238711 ]\n",
            "Accuracy: 100%\n"
          ],
          "name": "stdout"
        }
      ]
    },
    {
      "cell_type": "code",
      "metadata": {
        "id": "9ka8PdkVteYd",
        "colab_type": "code",
        "outputId": "a746bc42-8183-40c0-88e3-217042600ebf",
        "colab": {
          "base_uri": "https://localhost:8080/",
          "height": 377
        }
      },
      "source": [
        "figure1 = plt.plot(x_train,y_train,'ko')\n",
        "r=0\n",
        "g=0\n",
        "b=0\n",
        "for weight,bias in zip(W_save,b_save):\n",
        "  print(f'weight:{weight}, bias:{bias}')\n",
        "  figs = plt.plot(x_train,x_train*weight+bias,'--',color=(r,g,b,0.4))\n",
        "  plt.ylim(-0.5,1.5)\n",
        "  r+=0.2\n",
        "  g+=0\n"
      ],
      "execution_count": 0,
      "outputs": [
        {
          "output_type": "stream",
          "text": [
            "weight:-4.968200206756592, bias:0.5049999952316284\n",
            "weight:0.09240096807479858, bias:0.06037426367402077\n",
            "weight:0.297912061214447, bias:-1.0477943420410156\n",
            "weight:0.46287810802459717, bias:-1.9156444072723389\n",
            "weight:0.597917914390564, bias:-2.613983631134033\n",
            "weight:0.7110874652862549, bias:-3.192251682281494\n"
          ],
          "name": "stdout"
        },
        {
          "output_type": "display_data",
          "data": {
            "image/png": "[encoded data removed]",
            "text/plain": [
              "<Figure size 432x288 with 1 Axes>"
            ]
          },
          "metadata": {
            "tags": [],
            "needs_background": "light"
          }
        }
      ]
    },
    {
      "cell_type": "code",
      "metadata": {
        "id": "dabTt7yMyj-i",
        "colab_type": "code",
        "outputId": "18c716b7-6edb-4bd8-be72-7c8002e0acdb",
        "colab": {
          "base_uri": "https://localhost:8080/",
          "height": 269
        }
      },
      "source": [
        "i=0\n",
        "r=0\n",
        "g=0\n",
        "b=0\n",
        "\n",
        "plt.plot(x_train,y_train,'ko')\n",
        "for weight,bias in zip(W_save,b_save):\n",
        "  figs=plt.plot(x_train,hype_save[:,i],'o',color=(r,g,b,0.4))\n",
        "  plt.ylim(-0.5,1.5)\n",
        "  r+=0.2\n",
        "  g+=0\n",
        "\n",
        "  i+=1"
      ],
      "execution_count": 0,
      "outputs": [
        {
          "output_type": "display_data",
          "data": {
            "image/png": "[encoded data removed]",
            "text/plain": [
              "<Figure size 432x288 with 1 Axes>"
            ]
          },
          "metadata": {
            "tags": [],
            "needs_background": "light"
          }
        }
      ]
    },
    {
      "cell_type": "code",
      "metadata": {
        "id": "3eAtXh4I5mzc",
        "colab_type": "code",
        "outputId": "175d2c65-e692-4042-cc45-bca2ce9c4cec",
        "colab": {
          "base_uri": "https://localhost:8080/",
          "height": 265
        }
      },
      "source": [
        "plt.plot(range(6),loss_save,'k--o')\n",
        "plt.yscale('log')"
      ],
      "execution_count": 0,
      "outputs": [
        {
          "output_type": "display_data",
          "data": {
            "image/png": "[encoded data removed]",
            "text/plain": [
              "<Figure size 432x288 with 1 Axes>"
            ]
          },
          "metadata": {
            "tags": [],
            "needs_background": "light"
          }
        }
      ]
    },
    {
      "cell_type": "code",
      "metadata": {
        "id": "WYotzLJb6kDV",
        "colab_type": "code",
        "colab": {}
      },
      "source": [
        ""
      ],
      "execution_count": 0,
      "outputs": []
    }
  ]
}